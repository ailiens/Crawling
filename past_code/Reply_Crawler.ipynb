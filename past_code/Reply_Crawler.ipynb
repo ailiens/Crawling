{
 "cells": [
  {
   "cell_type": "markdown",
   "id": "2bcd24d3-84e4-403b-8ecb-39690d5c8b1e",
   "metadata": {},
   "source": [
    "### Reply_Crawler"
   ]
  },
  {
   "cell_type": "markdown",
   "id": "ec4a3293-9a75-4580-9b19-739884e14351",
   "metadata": {},
   "source": [
    "댓글 가져오는 정보정리 \n",
    "네이버, 틱톡 = API가져와서 하면 가능함 \n"
   ]
  },
  {
   "cell_type": "code",
   "execution_count": 7,
   "id": "d3c7a539-2124-4b10-8980-ef08b5b1715c",
   "metadata": {},
   "outputs": [],
   "source": [
    "from selenium import webdriver\n",
    "from selenium.webdriver.common.keys import Keys\n",
    "from bs4 import BeautifulSoup\n",
    "import time \n",
    "\n",
    "import pandas as pd\n",
    "\n",
    "import warnings\n",
    "warnings.filterwarnings('ignore') \n",
    "\n",
    "import matplotlib.pyplot as plt\n",
    "from wordcloud import WordCloud, STOPWORDS, ImageColorGenerator"
   ]
  },
  {
   "cell_type": "code",
   "execution_count": 14,
   "id": "49e556a9-5598-417a-ac38-a7ef2159c44c",
   "metadata": {
    "scrolled": true
   },
   "outputs": [
    {
     "name": "stdin",
     "output_type": "stream",
     "text": [
      " https://www.youtube.com/shorts/V33wIascWBE\n"
     ]
    }
   ],
   "source": [
    "from selenium import webdriver\n",
    "import time\n",
    "\n",
    "options = webdriver.ChromeOptions()\n",
    "# options.add_argument('--headless') \n",
    "options.add_argument('--no-sandbox')\n",
    "options.add_argument('--disable-dev-shm-usage')\n",
    "\n",
    "# ChromeDriver의 경로를 명시적으로 지정합니다.\n",
    "driver = webdriver.Chrome(options=options)\n",
    "\n",
    "# URL 입력하는곳\n",
    "########################################\n",
    "# driver.get('https://youtu.be/qWbHSOplcvY')\n",
    "########################################\n",
    "# URL 붙여넣기로 교체\n",
    "driver.get(input())\n",
    "\n",
    "### 겜톡톡 ###\n",
    "# https://www.youtube.com/shorts/V33wIascWBE\n",
    "#######################################\n",
    "\n",
    "driver.implicitly_wait(3)\n",
    "time.sleep(1.5)\n",
    "\n",
    "##이 단계에서 버튼 눌러서 댓글창 열리게 만들기 \n",
    "\n",
    "\n",
    "driver.execute_script('window.scrollTo(0,800)')  # 800픽셀만큼 페이지 내리기\n",
    "time.sleep(3)\n",
    "\n",
    "# 필요한 작업 수행 후 드라이버 종료\n",
    "# driver.quit() \n"
   ]
  },
  {
   "cell_type": "code",
   "execution_count": 15,
   "id": "d7db3ca1-c56c-4e9d-9efb-f7cfc52eedc1",
   "metadata": {},
   "outputs": [],
   "source": [
    "last_height = driver.execute_script(\"return document.documentElement.scrollHeight\") \n",
    "# 최초 로드시 화면이 가진 스크롤 높이 최대 픽셀값을 추출\n",
    "\n",
    "while True: # for 문과 달리 무한 루프인데 조건을 충족하면 코드를 벗어남\n",
    "  driver.execute_script(\"window.scrollTo(0, document.documentElement.scrollHeight);\") \n",
    "  # 지금 보고 있는 화면이 가진 스크롤 높이 최대 픽셀값만큼 실행\n",
    "  # 즉, 위에서 받은 최대 스크롤 값을 실행하는 것\n",
    "  # ; = window 함수의 특징으로서 code가 끝났으니 다음으로 넘어가라는 표시\n",
    "  time.sleep(1.5)\n",
    "\n",
    "  new_height = driver.execute_script(\"return document.documentElement.scrollHeight\") \n",
    "  # 기존에 받아온 최대 스크롤값을 실행한 후 추가로 생긴 화면이 가진 스크롤 높이 최대 픽셀값 추출\n",
    "\n",
    "  if new_height == last_height: # 추가 스크롤 값 없으면 멈춰\n",
    "    break\n",
    "\n",
    "  last_height = new_height # 스크롤 더 있으면 다시 담아줘(last height 리셋)\n",
    "  time.sleep(1.5)\n",
    "\n",
    "  try: \n",
    "    driver.find_element_by_css_selector('#dismiss-button > a').click() \n",
    "    #유튜브 프리미엄 프로모션 팝업창 닫기\n",
    "\n",
    "    time.sleep(1.5)\n",
    "  except:\n",
    "    pass"
   ]
  },
  {
   "cell_type": "code",
   "execution_count": 16,
   "id": "1cd96151-1331-431c-8aba-d2bc60b6a741",
   "metadata": {},
   "outputs": [],
   "source": [
    "html_source = driver.page_source \n",
    "#print(html_source)\n",
    "soup = BeautifulSoup(html_source, 'html.parser') #파싱 가능한 형태로 만듦\n",
    "\n",
    "id_list = soup.select('div#header-author > h3 > #author-text > span') \n",
    "# 아이디 리스트 변수(html 태그 리스트를 담은 것)\n",
    "comment_list = soup.select('yt-formatted-string#content-text') \n",
    "# 댓글 리스트 변수(html 태그 리스트를 담은 것)\n",
    "\n",
    "id_final = [] # 리스트 형태라고 선언\n",
    "comment_final = [] # 리스트 형태라고 선언\n",
    "\n",
    "for i in range(len(comment_list)):\n",
    "  temp_id = id_list[i].text\n",
    "  temp_id = temp_id.replace('\\n','').replace('\\t','').replace(' ','').strip()\n",
    "  id_final.append(temp_id) # 댓글 작성자 담기\n",
    "\n",
    "  temp_comment = comment_list[i].text\n",
    "  temp_comment = temp_comment.replace('\\n','').replace('\\t','').strip()\n",
    "  comment_final.append(temp_comment)  # 댓글 내용 담기"
   ]
  },
  {
   "cell_type": "code",
   "execution_count": 17,
   "id": "d379c49e-8f83-4b4c-bb79-dd29d8130968",
   "metadata": {},
   "outputs": [],
   "source": [
    "# 데이터 프레임 만들기 (리스트 -> 딕셔너리 활용 -> 데이터프레임)\n",
    "youtube_dict = {\"아이디\": id_final, \"댓글 내용\": comment_final}\n",
    "youtube_df = pd.DataFrame(youtube_dict)"
   ]
  },
  {
   "cell_type": "code",
   "execution_count": 19,
   "id": "e3ca5c17-ca0b-4f6e-8392-c38c3dbec9df",
   "metadata": {},
   "outputs": [
    {
     "name": "stdout",
     "output_type": "stream",
     "text": [
      "<class 'pandas.core.frame.DataFrame'>\n",
      "RangeIndex: 0 entries\n",
      "Data columns (total 2 columns):\n",
      " #   Column  Non-Null Count  Dtype  \n",
      "---  ------  --------------  -----  \n",
      " 0   아이디     0 non-null      float64\n",
      " 1   댓글 내용   0 non-null      float64\n",
      "dtypes: float64(2)\n",
      "memory usage: 124.0 bytes\n"
     ]
    }
   ],
   "source": [
    "youtube_df.info()"
   ]
  },
  {
   "cell_type": "code",
   "execution_count": null,
   "id": "0ab13c46-f7d6-4f5b-adb9-7c19607d1e9f",
   "metadata": {},
   "outputs": [],
   "source": []
  }
 ],
 "metadata": {
  "kernelspec": {
   "display_name": "Python 3 (ipykernel)",
   "language": "python",
   "name": "python3"
  },
  "language_info": {
   "codemirror_mode": {
    "name": "ipython",
    "version": 3
   },
   "file_extension": ".py",
   "mimetype": "text/x-python",
   "name": "python",
   "nbconvert_exporter": "python",
   "pygments_lexer": "ipython3",
   "version": "3.10.10"
  }
 },
 "nbformat": 4,
 "nbformat_minor": 5
}
