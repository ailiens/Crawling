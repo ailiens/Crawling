{
 "cells": [
  {
   "metadata": {
    "ExecuteTime": {
     "end_time": "2024-05-21T02:36:00.807989Z",
     "start_time": "2024-05-21T02:36:00.566719Z"
    }
   },
   "cell_type": "code",
   "source": [
    "import requests\n",
    "from bs4 import BeautifulSoup\n",
    "import pandas as pd\n",
    "import urllib.parse\n",
    "\n",
    "def scrape_titles_to_excel(url):\n",
    "    response = requests.get(url)\n",
    "    soup = BeautifulSoup(response.content, 'html.parser')\n",
    "    \n",
    "    # URL에서 검색어 파싱\n",
    "    parsed_url = urllib.parse.urlparse(url)\n",
    "    query_params = urllib.parse.parse_qs(parsed_url.query)\n",
    "    search_query = query_params['query'][0]\n",
    "\n",
    "    infos = soup.find_all('div', {'class': 'user_info'})\n",
    "    titles = soup.find_all('a', {'class': 'title_link'})\n",
    "    \n",
    "    data = []\n",
    "    for idx, (info, title) in enumerate(zip(infos, titles), start=1):\n",
    "        author = info.find('a', {'class': 'name'}).get_text().strip() if info.find('a', {'class': 'name'}) else 'No name found'\n",
    "        date = info.find('span', {'class': 'sub'}).get_text().strip() if info.find('span', {'class': 'sub'}) else 'No date found'\n",
    "        title_text = title.get_text().strip()\n",
    "        title_url = title['href']  # 'href' 속성값을 추출\n",
    "        \n",
    "        # URL을 기반으로 플랫폼 식별\n",
    "        if \"naver\" in title_url:\n",
    "            platform = \"네이버\"\n",
    "        elif \"tistory\" in title_url:\n",
    "            platform = \"티스토리\"\n",
    "        else:\n",
    "            platform = \"기타\"\n",
    "        \n",
    "        # 인플루언서 여부 확인\n",
    "        etc_div = info.find('div', {'class': 'etc'})\n",
    "        if etc_div and \"인플루언서\" in etc_div.get_text():\n",
    "            influencer = \"인플루언서\"\n",
    "        else:\n",
    "            influencer = \"인플루언서\"\n",
    "        \n",
    "        # 데이터 포인트에 정보 추가\n",
    "        data.append({\n",
    "            '순서': idx, \n",
    "            '블로거': author, \n",
    "            '플랫폼': platform, \n",
    "            '제목': title_text, \n",
    "            '날짜': date, \n",
    "            '검색어': search_query, \n",
    "            'URL': title_url,\n",
    "            '인플루언서 유무': influencer\n",
    "        })\n",
    "    \n",
    "    df = pd.DataFrame(data)\n",
    "    df = df[['순서', '블로거', '플랫폼', 'URL', '제목', '날짜', '검색어', '인플루언서 유무']]  # 컬럼 순서 재배치\n",
    "    df.to_excel('로블록스_인플루언서_output.xlsx', index=False)\n",
    "    print('엑셀 파일에 저장되었습니다.')\n",
    "\n",
    "# 실제 URL로 교체해 사용하세요.\n",
    "scrape_titles_to_excel('https://search.naver.com/search.naver?query=%EB%A1%9C%EB%B8%94%EB%A1%9D%EC%8A%A4&sm=tab_nmr&where=influencer')\n"
   ],
   "id": "eb9cf5b82e76b607",
   "outputs": [
    {
     "name": "stdout",
     "output_type": "stream",
     "text": [
      "엑셀 파일에 저장되었습니다.\n"
     ]
    }
   ],
   "execution_count": 5
  },
  {
   "metadata": {
    "ExecuteTime": {
     "end_time": "2024-05-21T02:34:34.264347Z",
     "start_time": "2024-05-21T02:34:33.753393Z"
    }
   },
   "cell_type": "code",
   "source": [
    "import requests\n",
    "from bs4 import BeautifulSoup\n",
    "import pandas as pd\n",
    "import urllib.parse\n",
    "\n",
    "def scrape_titles_to_excel(url):\n",
    "    response = requests.get(url)\n",
    "    soup = BeautifulSoup(response.content, 'html.parser')\n",
    "    \n",
    "    # URL에서 검색어 파싱\n",
    "    parsed_url = urllib.parse.urlparse(url)\n",
    "    query_params = urllib.parse.parse_qs(parsed_url.query)\n",
    "    search_query = query_params['query'][0]\n",
    "\n",
    "    infos = soup.find_all('div', {'class': 'user_info'})\n",
    "    titles = soup.find_all('a', {'class': 'title_link'})\n",
    "    \n",
    "    data = []\n",
    "    for idx, (info, title) in enumerate(zip(infos, titles), start=1):\n",
    "        author = info.find('a', {'class': 'name'}).get_text().strip() if info.find('a', {'class': 'name'}) else 'No name found'\n",
    "        date = info.find('span', {'class': 'sub'}).get_text().strip() if info.find('span', {'class': 'sub'}) else 'No date found'\n",
    "        title_text = title.get_text().strip()\n",
    "        title_url = title['href']  # 'href' 속성값을 추출\n",
    "        \n",
    "        # URL을 기반으로 플랫폼 식별\n",
    "        if \"naver\" in title_url:\n",
    "            platform = \"네이버\"\n",
    "        elif \"tistory\" in title_url:\n",
    "            platform = \"티스토리\"\n",
    "        else:\n",
    "            platform = \"기타\"\n",
    "        \n",
    "        # 인플루언서 여부 확인\n",
    "        etc_div = info.find('div', {'class': 'etc'})\n",
    "        if etc_div and \"인플루언서\" in etc_div.get_text():\n",
    "            influencer = \"인플루언서\"\n",
    "        else:\n",
    "            influencer = \"해당없음\"\n",
    "        \n",
    "        # 데이터 포인트에 정보 추가\n",
    "        data.append({\n",
    "            '순서': idx, \n",
    "            '블로거': author, \n",
    "            '플랫폼': platform, \n",
    "            '제목': title_text, \n",
    "            '날짜': date, \n",
    "            '검색어': search_query, \n",
    "            'URL': title_url,\n",
    "            '인플루언서 유무': influencer\n",
    "        })\n",
    "    \n",
    "    df = pd.DataFrame(data)\n",
    "    df = df[['순서', '블로거', '플랫폼', 'URL', '제목', '날짜', '검색어', '인플루언서 유무']]  # 컬럼 순서 재배치\n",
    "    df.to_excel('로블록스_블로그_output.xlsx', index=False)\n",
    "    print('엑셀 파일에 저장되었습니다.')\n",
    "\n",
    "# 실제 URL로 교체해 사용하세요.\n",
    "scrape_titles_to_excel('https://search.naver.com/search.naver?ssc=tab.blog.all&query=%EB%A1%9C%EB%B8%94%EB%A1%9D%EC%8A%A4&sm=tab_opt&nso=so%3Ar%2Cp%3A1y')"
   ],
   "id": "1d2c2e148ca6c7df",
   "outputs": [
    {
     "name": "stdout",
     "output_type": "stream",
     "text": [
      "엑셀 파일에 저장되었습니다.\n"
     ]
    }
   ],
   "execution_count": 3
  },
  {
   "metadata": {},
   "cell_type": "code",
   "outputs": [],
   "execution_count": null,
   "source": "",
   "id": "f62d6eddedb0abf0"
  }
 ],
 "metadata": {
  "kernelspec": {
   "display_name": "Python 3",
   "language": "python",
   "name": "python3"
  },
  "language_info": {
   "codemirror_mode": {
    "name": "ipython",
    "version": 2
   },
   "file_extension": ".py",
   "mimetype": "text/x-python",
   "name": "python",
   "nbconvert_exporter": "python",
   "pygments_lexer": "ipython2",
   "version": "2.7.6"
  }
 },
 "nbformat": 4,
 "nbformat_minor": 5
}
