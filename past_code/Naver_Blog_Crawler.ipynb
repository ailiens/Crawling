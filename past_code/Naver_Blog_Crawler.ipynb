{
 "cells": [
  {
   "metadata": {},
   "cell_type": "code",
   "outputs": [
    {
     "name": "stdout",
     "output_type": "stream",
     "text": [
      "[{'순서': 1, '블로거': '처음하는 리뷰세상', '플랫폼': '네이버', '제목': '현금화 가능한 어플 추천 24년 3월 앱테크 정산', '날짜': '4주 전', '검색어': '앱테크', 'URL': 'https://blog.naver.com/qqaa3012/223402353391'}, {'순서': 2, '블로거': '은줍 다이어리', '플랫폼': '네이버', '제목': '앱테크 어플 추천 뷰업 어렵지 않아요!', '날짜': '4주 전', '검색어': '앱테크', 'URL': 'https://blog.naver.com/dmswl1717/223398988634'}, {'순서': 3, '블로거': 'FINDAE_Y', '플랫폼': '네이버', '제목': '앱테크 어플 추천 뷰업 누구나 쉽게 해요', '날짜': '2024.02.26.', '검색어': '앱테크', 'URL': 'https://blog.naver.com/janidoong2/223365807732'}, {'순서': 4, '블로거': 'ʟᴇᴇ ᴀɴɴ ʀᴇᴠɪᴇᴡ', '플랫폼': '네이버', '제목': '앱테크 추천 뷰업 수익 후기 알려드려요', '날짜': '2024.03.14.', '검색어': '앱테크', 'URL': 'https://blog.naver.com/mhmh0713/223382903251'}, {'순서': 5, '블로거': '나도아빠는처음이야', '플랫폼': '네이버', '제목': '앱테크 추천 쉽게 도전했어요', '날짜': '1일 전', '검색어': '앱테크', 'URL': 'https://blog.naver.com/comscare/223426199648'}, {'순서': 6, '블로거': '제법 괜찮은 여정,', '플랫폼': '네이버', '제목': '앱테크 어플 추천 만족했던 이유', '날짜': '2주 전', '검색어': '앱테크', 'URL': 'https://blog.naver.com/dss02071/223418945895'}, {'순서': 7, '블로거': '야루의 그림테라피', '플랫폼': '네이버', '제목': '앱테크 어플 뷰업 추천 수익 총정리', '날짜': '2024.03.21.', '검색어': '앱테크', 'URL': 'https://blog.naver.com/spiny/223391057830'}, {'순서': 8, '블로거': '+품격있는집 바른주택+', '플랫폼': '네이버', '제목': '앱테크 부업 활동 24년 3개월 부수입 정리', '날짜': '4주 전', '검색어': '앱테크', 'URL': 'https://blog.naver.com/dugddf1/223402501936'}, {'순서': 9, '블로거': '하루집사의 IT한마당', '플랫폼': '네이버', '제목': '직장인에게 추천하는 앱테크 1순위 공개', '날짜': '2024.02.27.', '검색어': '앱테크', 'URL': 'https://blog.naver.com/dltmdgns2525/223367187365'}, {'순서': 10, '블로거': '경제비둘기', '플랫폼': '네이버', '제목': '마일벌스 앱테크 추천 2024년 상반기 이벤트 총정리', '날짜': '2024.03.12.', '검색어': '앱테크', 'URL': 'https://blog.naver.com/troilos/223381104881'}, {'순서': 11, '블로거': '깨비의 경제적 자유 성공하기', '플랫폼': '네이버', '제목': '아테네 코인 (Athene, ATH) 스마트폰 채굴 앱테크', '날짜': '2024.03.14.', '검색어': '앱테크', 'URL': 'https://blog.naver.com/jaehun911/223383680421'}, {'순서': 12, '블로거': '이른 아침의 도라지차', '플랫폼': '네이버', '제목': '스픽캐시 앱테크 추천인 회원가입 이벤트 소개 및 참여방법 정리', '날짜': '3주 전', '검색어': '앱테크', 'URL': 'https://blog.naver.com/kastro83/223410182239'}, {'순서': 13, '블로거': '처음하는 리뷰세상', '플랫폼': '네이버', '제목': '앱테크 어플 추천 뷰업 자동으로 돈벌어요!', '날짜': '2024.01.29.', '검색어': '앱테크', 'URL': 'https://blog.naver.com/qqaa3012/223337520949'}, {'순서': 14, '블로거': '환상개미의 경제학개론', '플랫폼': '네이버', '제목': '2024년 3월 앱테크 결산', '날짜': '4주 전', '검색어': '앱테크', 'URL': 'https://blog.naver.com/gemigo/223401244432'}, {'순서': 15, '블로거': '천재블로그', '플랫폼': '네이버', '제목': '앱테크 3월 수익 정산 추천 앱 TOP4', '날짜': '3주 전', '검색어': '앱테크', 'URL': 'https://blog.naver.com/bnm9494/223409030595'}, {'순서': 16, '블로거': '귤랭이', '플랫폼': '네이버', '제목': '앱테크 추천 유튜브 동영상 보면서 즐기는 짠테크 어플 클립다운 Lite (ft. 초대 코드)', '날짜': '3일 전', '검색어': '앱테크', 'URL': 'https://blog.naver.com/jihoon5252/223424309285'}, {'순서': 17, '블로거': '곰곰이이야기', '플랫폼': '네이버', '제목': '앱테크 어플 추천 순위 TOP3 결산 2023년 수익 공개', '날짜': '3주 전', '검색어': '앱테크', 'URL': 'https://blog.naver.com/gomgome18/223404505559'}, {'순서': 18, '블로거': '나도아빠는처음이야', '플랫폼': '네이버', '제목': '앱테크 순위 만족스러운 이용 후기', '날짜': '2주 전', '검색어': '앱테크', 'URL': 'https://blog.naver.com/comscare/223419068989'}, {'순서': 19, '블로거': '자투리 재테크로 꿈꾸는 경제적 자유', '플랫폼': '네이버', '제목': '자투리 재테크 3월 한달 결산하기 앱테크 공모주 배당금 블로그 투자수익 3,479,042원', '날짜': '4주 전', '검색어': '앱테크', 'URL': 'https://blog.naver.com/elf9313/223401161976'}, {'순서': 20, '블로거': '안선생', '플랫폼': '네이버', '제목': '엠브레인 패널파워, 심심할땐 네이버 말고 설문조사 앱테크!', '날짜': '4일 전', '검색어': '앱테크', 'URL': 'https://blog.naver.com/next200208/223422541880'}, {'순서': 21, '블로거': 'April in April', '플랫폼': '네이버', '제목': '캐시톡으로 앱테크 시작! (방법 및 주의사항 설명~)', '날짜': '3주 전', '검색어': '앱테크', 'URL': 'https://blog.naver.com/blondefish/223411806404'}, {'순서': 22, '블로거': 'OLIVE', '플랫폼': '네이버', '제목': '[앱테크] 공짜로 펀드투자도 가능한 삼성증권 모니모', '날짜': '2주 전', '검색어': '앱테크', 'URL': 'https://blog.naver.com/jinjin1984/223414516760'}, {'순서': 23, '블로거': '창업시대', '플랫폼': '네이버', '제목': '수익 극대화를 위한 최고의 앱테크 순위를 공개합니다!', '날짜': '2024.02.26.', '검색어': '앱테크', 'URL': 'https://blog.naver.com/kireinak/223365687106'}, {'순서': 24, '블로거': 'RichLab Biz', '플랫폼': '네이버', '제목': '케이뱅크 돈나무 키우기 간단한 출석체크로 쉽게 앱테크 가능!', '날짜': '4주 전', '검색어': '앱테크', 'URL': 'https://blog.naver.com/100fwerr/223405498099'}, {'순서': 25, '블로거': '앱테크로 커피한잔', '플랫폼': '네이버', '제목': '티끌 모아 앱테크 156탄:클립 다운/유튜브 시청으로 돈 버는 앱', '날짜': '4일 전', '검색어': '앱테크', 'URL': 'https://blog.naver.com/minyrane/223423347735'}, {'순서': 26, '블로거': '씽또', '플랫폼': '네이버', '제목': '플러스팟 킥보드 주워심기 앱테크 용인 킥보드스테이션', '날짜': '4주 전', '검색어': '앱테크', 'URL': 'https://blog.naver.com/whiteyumi11/223405021155'}, {'순서': 27, '블로거': '블룸앤아이유', '플랫폼': '네이버', '제목': '걷기 만보기 앱테크가 하나 더 늘었습니다', '날짜': '2024.02.05.', '검색어': '앱테크', 'URL': 'https://blog.naver.com/ishiseido77/223344659978'}, {'순서': 28, '블로거': '당신을 위한 모든 정보', '플랫폼': '네이버', '제목': '엠브레인패널파워 설문조사 앱테크 알바 최고인 이유!', '날짜': '4주 전', '검색어': '앱테크', 'URL': 'https://blog.naver.com/newyorkmominseoul/223397107769'}, {'순서': 29, '블로거': '경안종합중장비공업사', '플랫폼': '네이버', '제목': '앱테크 어플 추천 자동시스템 수익창출 해요!', '날짜': '2024.02.14.', '검색어': '앱테크', 'URL': 'https://blog.naver.com/pleyang/223353314900'}, {'순서': 30, '블로거': '혜무늘보', '플랫폼': '네이버', '제목': '실제 내가 하고 있는 앱테크 추천 목록 및 수익 인증', '날짜': '2024.03.15.', '검색어': '앱테크', 'URL': 'https://blog.naver.com/mellongi123/223384704534'}]\n",
      "엑셀 파일에 저장되었습니다.\n"
     ]
    }
   ],
   "execution_count": 35,
   "source": [
    "import requests\n",
    "from bs4 import BeautifulSoup\n",
    "import pandas as pd\n",
    "import urllib.parse\n",
    "\n",
    "def scrape_titles_to_excel(url):\n",
    "    response = requests.get(url)\n",
    "    soup = BeautifulSoup(response.content, 'html.parser')\n",
    "    \n",
    "    # URL에서 검색어 파싱\n",
    "    parsed_url = urllib.parse.urlparse(url)\n",
    "    query_params = urllib.parse.parse_qs(parsed_url.query)\n",
    "    search_query = query_params['query'][0]\n",
    "\n",
    "    infos = soup.find_all('div', {'class': 'user_info'})\n",
    "    titles = soup.find_all('a', {'class': 'title_link'})\n",
    "    \n",
    "    data = []\n",
    "    for idx, (info, title) in enumerate(zip(infos, titles), start=1):\n",
    "        author = info.find('a', {'class': 'name'}).get_text().strip() if info.find('a', {'class': 'name'}) else 'No name found'\n",
    "        date = info.find('span', {'class': 'sub'}).get_text().strip() if info.find('span', {'class': 'sub'}) else 'No date found'\n",
    "        title_text = title.get_text().strip()\n",
    "        title_url = title['href']  # 'href' 속성값을 추출\n",
    "        \n",
    "        # URL을 기반으로 플랫폼 식별\n",
    "        if \"naver\" in title_url:\n",
    "            platform = \"네이버\"\n",
    "        elif \"tistory\" in title_url:\n",
    "            platform = \"티스토리\"\n",
    "        else:\n",
    "            platform = \"기타\"\n",
    "        \n",
    "        # 데이터 포인트에 정보 추가\n",
    "        data.append({\n",
    "            '순서': idx, \n",
    "            '블로거': author, \n",
    "            '플랫폼': platform, \n",
    "            '제목': title_text, \n",
    "            '날짜': date, \n",
    "            '검색어': search_query, \n",
    "            'URL': title_url\n",
    "        })\n",
    "    print(data)\n",
    "    \n",
    "    df = pd.DataFrame(data)\n",
    "    df = df[['순서', '블로거', '플랫폼',  'URL', '제목', '날짜', '검색어']]  # 컬럼 순서 재배치\n",
    "    df.to_excel('앱테크_1년_output.xlsx', index=False)\n",
    "    print('엑셀 파일에 저장되었습니다.')\n",
    "\n",
    "# 필요한 네이버 검색 후 URL로 교체 사용할 것. (아래 링크는 1년 내 관련도 순)\n",
    "scrape_titles_to_excel('https://search.naver.com/search.naver?sm=tab_hty.top&ssc=tab.blog.all&query=%EC%95%B1%ED%85%8C%ED%81%AC&oquery=%EC%95%B1%ED%85%8C%ED%81%AC&tqi=iAouhsqo1aVssZXrM7Ksssssse4-519741&nso=so%3Ar%2Cp%3A1y')\n"
   ],
   "id": "18c62a40a6bfc0eb"
  }
 ],
 "metadata": {
  "kernelspec": {
   "display_name": "Python 3",
   "language": "python",
   "name": "python3"
  },
  "language_info": {
   "codemirror_mode": {
    "name": "ipython",
    "version": 2
   },
   "file_extension": ".py",
   "mimetype": "text/x-python",
   "name": "python",
   "nbconvert_exporter": "python",
   "pygments_lexer": "ipython2",
   "version": "2.7.6"
  }
 },
 "nbformat": 4,
 "nbformat_minor": 5
}
