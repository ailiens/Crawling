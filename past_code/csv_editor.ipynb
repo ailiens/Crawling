{
 "cells": [
  {
   "cell_type": "code",
   "execution_count": 1,
   "id": "initial_id",
   "metadata": {
    "collapsed": true,
    "ExecuteTime": {
     "end_time": "2024-04-16T09:28:26.742374Z",
     "start_time": "2024-04-16T09:28:26.391152Z"
    }
   },
   "outputs": [],
   "source": [
    "import pandas as pd"
   ]
  },
  {
   "cell_type": "code",
   "outputs": [],
   "source": [
    "# 데이터를 딕셔너리로 정의\n",
    "data = {\n",
    "    \"제목\": [\"5가지 키워드로 보는 알파브라더스\"],\n",
    "    \"날짜\": [\"2024-03-01\"],\n",
    "    \"카테고리\": [\"INSIGHTS\"],\n",
    "    \"태그\": ['엑셀러레이터, 창업지원, 성장챔피언'],\n",
    "    \"요약\": [\n",
    "        \"알파브라더스는 창업가들을 위한 실질적인 지원을 제공하는 액티브 액셀러레이터입니다. 이 글에서는 알파브라더스가 일반적인 액셀러레이터와 어떻게 차별화되는지, 그리고 그들이 창업가들과 기업에 제공하는 다섯 가지 주요 가치를 소개합니다\"\n",
    "    ]\n",
    "}"
   ],
   "metadata": {
    "collapsed": false,
    "ExecuteTime": {
     "end_time": "2024-04-16T09:32:50.950545Z",
     "start_time": "2024-04-16T09:32:50.943570Z"
    }
   },
   "id": "cf0226ccee763c22",
   "execution_count": 5
  },
  {
   "cell_type": "code",
   "outputs": [],
   "source": [
    "df = pd.DataFrame(data)"
   ],
   "metadata": {
    "collapsed": false,
    "ExecuteTime": {
     "end_time": "2024-04-16T09:32:52.947574Z",
     "start_time": "2024-04-16T09:32:52.929179Z"
    }
   },
   "id": "55998713dccaa604",
   "execution_count": 6
  },
  {
   "cell_type": "code",
   "outputs": [
    {
     "data": {
      "text/plain": "                   제목          날짜      카테고리                   태그  \\\n0  5가지 키워드로 보는 알파브라더스  2024-03-01  INSIGHTS  엑셀러레이터, 창업지원, 성장챔피언   \n\n                                                  요약  \n0  알파브라더스는 창업가들을 위한 실질적인 지원을 제공하는 액티브 액셀러레이터입니다. ...  ",
      "text/html": "<div>\n<style scoped>\n    .dataframe tbody tr th:only-of-type {\n        vertical-align: middle;\n    }\n\n    .dataframe tbody tr th {\n        vertical-align: top;\n    }\n\n    .dataframe thead th {\n        text-align: right;\n    }\n</style>\n<table border=\"1\" class=\"dataframe\">\n  <thead>\n    <tr style=\"text-align: right;\">\n      <th></th>\n      <th>제목</th>\n      <th>날짜</th>\n      <th>카테고리</th>\n      <th>태그</th>\n      <th>요약</th>\n    </tr>\n  </thead>\n  <tbody>\n    <tr>\n      <th>0</th>\n      <td>5가지 키워드로 보는 알파브라더스</td>\n      <td>2024-03-01</td>\n      <td>INSIGHTS</td>\n      <td>엑셀러레이터, 창업지원, 성장챔피언</td>\n      <td>알파브라더스는 창업가들을 위한 실질적인 지원을 제공하는 액티브 액셀러레이터입니다. ...</td>\n    </tr>\n  </tbody>\n</table>\n</div>"
     },
     "execution_count": 7,
     "metadata": {},
     "output_type": "execute_result"
    }
   ],
   "source": [
    "df"
   ],
   "metadata": {
    "collapsed": false,
    "ExecuteTime": {
     "end_time": "2024-04-16T09:32:54.306414Z",
     "start_time": "2024-04-16T09:32:54.288454Z"
    }
   },
   "id": "1b2725c92e35bd93",
   "execution_count": 7
  },
  {
   "cell_type": "code",
   "outputs": [],
   "source": [
    "df.to_csv(\"blog_posts.csv\", index=False, encoding='utf-8-sig')"
   ],
   "metadata": {
    "collapsed": false,
    "ExecuteTime": {
     "end_time": "2024-04-16T09:33:25.508932Z",
     "start_time": "2024-04-16T09:33:25.482751Z"
    }
   },
   "id": "8771100f64434e8e",
   "execution_count": 8
  },
  {
   "cell_type": "code",
   "outputs": [],
   "source": [
    "df = pd.read_csv('blog_posts.csv', encoding='utf')"
   ],
   "metadata": {
    "collapsed": false,
    "ExecuteTime": {
     "end_time": "2024-04-16T09:33:54.837926Z",
     "start_time": "2024-04-16T09:33:54.811815Z"
    }
   },
   "id": "b0e8f6992d9d371e",
   "execution_count": 9
  },
  {
   "cell_type": "code",
   "outputs": [
    {
     "data": {
      "text/plain": "                   제목          날짜      카테고리                   태그  \\\n0  5가지 키워드로 보는 알파브라더스  2024-03-01  INSIGHTS  엑셀러레이터, 창업지원, 성장챔피언   \n\n                                                  요약  \n0  알파브라더스는 창업가들을 위한 실질적인 지원을 제공하는 액티브 액셀러레이터입니다. ...  ",
      "text/html": "<div>\n<style scoped>\n    .dataframe tbody tr th:only-of-type {\n        vertical-align: middle;\n    }\n\n    .dataframe tbody tr th {\n        vertical-align: top;\n    }\n\n    .dataframe thead th {\n        text-align: right;\n    }\n</style>\n<table border=\"1\" class=\"dataframe\">\n  <thead>\n    <tr style=\"text-align: right;\">\n      <th></th>\n      <th>제목</th>\n      <th>날짜</th>\n      <th>카테고리</th>\n      <th>태그</th>\n      <th>요약</th>\n    </tr>\n  </thead>\n  <tbody>\n    <tr>\n      <th>0</th>\n      <td>5가지 키워드로 보는 알파브라더스</td>\n      <td>2024-03-01</td>\n      <td>INSIGHTS</td>\n      <td>엑셀러레이터, 창업지원, 성장챔피언</td>\n      <td>알파브라더스는 창업가들을 위한 실질적인 지원을 제공하는 액티브 액셀러레이터입니다. ...</td>\n    </tr>\n  </tbody>\n</table>\n</div>"
     },
     "execution_count": 10,
     "metadata": {},
     "output_type": "execute_result"
    }
   ],
   "source": [
    "df"
   ],
   "metadata": {
    "collapsed": false,
    "ExecuteTime": {
     "end_time": "2024-04-16T09:33:55.534575Z",
     "start_time": "2024-04-16T09:33:55.513779Z"
    }
   },
   "id": "e59fa67155f0d717",
   "execution_count": 10
  },
  {
   "cell_type": "code",
   "outputs": [
    {
     "ename": "AttributeError",
     "evalue": "'DataFrame' object has no attribute 'append'",
     "output_type": "error",
     "traceback": [
      "\u001B[1;31m---------------------------------------------------------------------------\u001B[0m",
      "\u001B[1;31mAttributeError\u001B[0m                            Traceback (most recent call last)",
      "Cell \u001B[1;32mIn[15], line 11\u001B[0m\n\u001B[0;32m      2\u001B[0m add_data \u001B[38;5;241m=\u001B[39m {\n\u001B[0;32m      3\u001B[0m     \u001B[38;5;124m'\u001B[39m\u001B[38;5;124m제목\u001B[39m\u001B[38;5;124m'\u001B[39m: [\u001B[38;5;124m'\u001B[39m\u001B[38;5;124m실무까지 지원하는 알파브라더스의 남다른 펀드 투자\u001B[39m\u001B[38;5;124m'\u001B[39m],\n\u001B[0;32m      4\u001B[0m     \u001B[38;5;124m'\u001B[39m\u001B[38;5;124m날짜\u001B[39m\u001B[38;5;124m'\u001B[39m: [\u001B[38;5;124m'\u001B[39m\u001B[38;5;124m2024-03-01 \u001B[39m\u001B[38;5;124m'\u001B[39m], \u001B[38;5;66;03m# 2024-03-01\u001B[39;00m\n\u001B[1;32m   (...)\u001B[0m\n\u001B[0;32m      7\u001B[0m     \u001B[38;5;124m'\u001B[39m\u001B[38;5;124m요약\u001B[39m\u001B[38;5;124m'\u001B[39m: [\u001B[38;5;124m'\u001B[39m\u001B[38;5;124m알파브라더스는 자본금 투자와 함께 실무 지원을 통해 창업가들을 성공으로 이끄는 차별화된 펀드 투자를 제공합니다.\u001B[39m\u001B[38;5;124m'\u001B[39m], \u001B[38;5;66;03m# 내용요약 \u001B[39;00m\n\u001B[0;32m      8\u001B[0m }\n\u001B[0;32m     10\u001B[0m \u001B[38;5;66;03m# 데이터 추가할때 \u001B[39;00m\n\u001B[1;32m---> 11\u001B[0m df \u001B[38;5;241m=\u001B[39m \u001B[43mdf\u001B[49m\u001B[38;5;241;43m.\u001B[39;49m\u001B[43mappend\u001B[49m(add_data, ignore_index \u001B[38;5;241m=\u001B[39m \u001B[38;5;28;01mTrue\u001B[39;00m)\n",
      "File \u001B[1;32m~\\AppData\\Local\\Programs\\Python\\Python310\\lib\\site-packages\\pandas\\core\\generic.py:6296\u001B[0m, in \u001B[0;36mNDFrame.__getattr__\u001B[1;34m(self, name)\u001B[0m\n\u001B[0;32m   6289\u001B[0m \u001B[38;5;28;01mif\u001B[39;00m (\n\u001B[0;32m   6290\u001B[0m     name \u001B[38;5;129;01mnot\u001B[39;00m \u001B[38;5;129;01min\u001B[39;00m \u001B[38;5;28mself\u001B[39m\u001B[38;5;241m.\u001B[39m_internal_names_set\n\u001B[0;32m   6291\u001B[0m     \u001B[38;5;129;01mand\u001B[39;00m name \u001B[38;5;129;01mnot\u001B[39;00m \u001B[38;5;129;01min\u001B[39;00m \u001B[38;5;28mself\u001B[39m\u001B[38;5;241m.\u001B[39m_metadata\n\u001B[0;32m   6292\u001B[0m     \u001B[38;5;129;01mand\u001B[39;00m name \u001B[38;5;129;01mnot\u001B[39;00m \u001B[38;5;129;01min\u001B[39;00m \u001B[38;5;28mself\u001B[39m\u001B[38;5;241m.\u001B[39m_accessors\n\u001B[0;32m   6293\u001B[0m     \u001B[38;5;129;01mand\u001B[39;00m \u001B[38;5;28mself\u001B[39m\u001B[38;5;241m.\u001B[39m_info_axis\u001B[38;5;241m.\u001B[39m_can_hold_identifiers_and_holds_name(name)\n\u001B[0;32m   6294\u001B[0m ):\n\u001B[0;32m   6295\u001B[0m     \u001B[38;5;28;01mreturn\u001B[39;00m \u001B[38;5;28mself\u001B[39m[name]\n\u001B[1;32m-> 6296\u001B[0m \u001B[38;5;28;01mreturn\u001B[39;00m \u001B[38;5;28;43mobject\u001B[39;49m\u001B[38;5;241;43m.\u001B[39;49m\u001B[38;5;21;43m__getattribute__\u001B[39;49m\u001B[43m(\u001B[49m\u001B[38;5;28;43mself\u001B[39;49m\u001B[43m,\u001B[49m\u001B[43m \u001B[49m\u001B[43mname\u001B[49m\u001B[43m)\u001B[49m\n",
      "\u001B[1;31mAttributeError\u001B[0m: 'DataFrame' object has no attribute 'append'"
     ]
    }
   ],
   "source": [
    "# 데이터 추가하기\n",
    "add_data = {\n",
    "    '제목': ['실무까지 지원하는 알파브라더스의 남다른 펀드 투자'],\n",
    "    '날짜': ['2024-03-01 '], # 2024-03-01\n",
    "    '카테고리': ['INSIGHTS '], # INSIGHTS, SHOWCASES, NOTICE\n",
    "    '태그': ['알파브라더스, 투자, 실무 지원 '], # 엑셀러레이터, 창업지원\n",
    "    '요약': ['알파브라더스는 자본금 투자와 함께 실무 지원을 통해 창업가들을 성공으로 이끄는 차별화된 펀드 투자를 제공합니다.'], # 내용요약 \n",
    "}"
   ],
   "metadata": {
    "collapsed": false,
    "ExecuteTime": {
     "end_time": "2024-04-16T09:40:16.662312Z",
     "start_time": "2024-04-16T09:40:16.629128Z"
    }
   },
   "id": "eca6268039d81905",
   "execution_count": 15
  },
  {
   "cell_type": "code",
   "outputs": [
    {
     "data": {
      "text/plain": "{'제목': ['실무까지 지원하는 알파브라더스의 남다른 펀드 투자'],\n '날짜': ['2024-03-01 '],\n '카테고리': ['INSIGHTS '],\n '태그': ['알파브라더스, 투자, 실무 지원 '],\n '요약': ['알파브라더스는 자본금 투자와 함께 실무 지원을 통해 창업가들을 성공으로 이끄는 차별화된 펀드 투자를 제공합니다.']}"
     },
     "execution_count": 13,
     "metadata": {},
     "output_type": "execute_result"
    }
   ],
   "source": [
    "add_data"
   ],
   "metadata": {
    "collapsed": false,
    "ExecuteTime": {
     "end_time": "2024-04-16T09:40:02.958753Z",
     "start_time": "2024-04-16T09:40:02.947695Z"
    }
   },
   "id": "a01dd52941904f8d",
   "execution_count": 13
  },
  {
   "cell_type": "code",
   "outputs": [],
   "source": [
    "# 데이터 추가할때 \n",
    "add_df = pd.DataFrame.from_dict(add_data)\n",
    "df = pd.concat([df, add_df], ignore_index=True)"
   ],
   "metadata": {
    "collapsed": false,
    "ExecuteTime": {
     "end_time": "2024-04-16T09:42:36.572946Z",
     "start_time": "2024-04-16T09:42:36.553954Z"
    }
   },
   "id": "f60f581f028493ae",
   "execution_count": 20
  },
  {
   "cell_type": "code",
   "outputs": [
    {
     "data": {
      "text/plain": "                            제목           날짜       카테고리                   태그  \\\n0           5가지 키워드로 보는 알파브라더스   2024-03-01   INSIGHTS  엑셀러레이터, 창업지원, 성장챔피언   \n1  실무까지 지원하는 알파브라더스의 남다른 펀드 투자  2024-03-01   INSIGHTS    알파브라더스, 투자, 실무 지원    \n\n                                                  요약  \n0  알파브라더스는 창업가들을 위한 실질적인 지원을 제공하는 액티브 액셀러레이터입니다. ...  \n1  알파브라더스는 자본금 투자와 함께 실무 지원을 통해 창업가들을 성공으로 이끄는 차별...  ",
      "text/html": "<div>\n<style scoped>\n    .dataframe tbody tr th:only-of-type {\n        vertical-align: middle;\n    }\n\n    .dataframe tbody tr th {\n        vertical-align: top;\n    }\n\n    .dataframe thead th {\n        text-align: right;\n    }\n</style>\n<table border=\"1\" class=\"dataframe\">\n  <thead>\n    <tr style=\"text-align: right;\">\n      <th></th>\n      <th>제목</th>\n      <th>날짜</th>\n      <th>카테고리</th>\n      <th>태그</th>\n      <th>요약</th>\n    </tr>\n  </thead>\n  <tbody>\n    <tr>\n      <th>0</th>\n      <td>5가지 키워드로 보는 알파브라더스</td>\n      <td>2024-03-01</td>\n      <td>INSIGHTS</td>\n      <td>엑셀러레이터, 창업지원, 성장챔피언</td>\n      <td>알파브라더스는 창업가들을 위한 실질적인 지원을 제공하는 액티브 액셀러레이터입니다. ...</td>\n    </tr>\n    <tr>\n      <th>1</th>\n      <td>실무까지 지원하는 알파브라더스의 남다른 펀드 투자</td>\n      <td>2024-03-01</td>\n      <td>INSIGHTS</td>\n      <td>알파브라더스, 투자, 실무 지원</td>\n      <td>알파브라더스는 자본금 투자와 함께 실무 지원을 통해 창업가들을 성공으로 이끄는 차별...</td>\n    </tr>\n  </tbody>\n</table>\n</div>"
     },
     "execution_count": 21,
     "metadata": {},
     "output_type": "execute_result"
    }
   ],
   "source": [
    "df"
   ],
   "metadata": {
    "collapsed": false,
    "ExecuteTime": {
     "end_time": "2024-04-16T09:42:46.435270Z",
     "start_time": "2024-04-16T09:42:46.412457Z"
    }
   },
   "id": "127faa184b9e0837",
   "execution_count": 21
  },
  {
   "cell_type": "code",
   "outputs": [],
   "source": [
    "# 파일 저장\n",
    "df.to_csv(\"blog_posts.csv\", index=False, encoding='utf-8-sig')"
   ],
   "metadata": {
    "collapsed": false,
    "ExecuteTime": {
     "end_time": "2024-04-16T09:48:53.662182Z",
     "start_time": "2024-04-16T09:48:53.648144Z"
    }
   },
   "id": "5ed4ecef5a4e5f3b",
   "execution_count": 29
  },
  {
   "cell_type": "code",
   "outputs": [],
   "source": [
    "df2 = pd.read_csv(\"blog_posts.csv\")\n"
   ],
   "metadata": {
    "collapsed": false,
    "ExecuteTime": {
     "end_time": "2024-04-16T09:49:10.617941Z",
     "start_time": "2024-04-16T09:49:10.610410Z"
    }
   },
   "id": "292ecd5d9e05ced0",
   "execution_count": 30
  },
  {
   "cell_type": "code",
   "outputs": [
    {
     "data": {
      "text/plain": "                            제목           날짜       카테고리                   태그  \\\n0           5가지 키워드로 보는 알파브라더스   2024-03-01   INSIGHTS  엑셀러레이터, 창업지원, 성장챔피언   \n1  실무까지 지원하는 알파브라더스의 남다른 펀드 투자  2024-03-01   INSIGHTS    알파브라더스, 투자, 실무 지원    \n\n                                                  요약  \n0  알파브라더스는 창업가들을 위한 실질적인 지원을 제공하는 액티브 액셀러레이터입니다. ...  \n1  알파브라더스는 자본금 투자와 함께 실무 지원을 통해 창업가들을 성공으로 이끄는 차별...  ",
      "text/html": "<div>\n<style scoped>\n    .dataframe tbody tr th:only-of-type {\n        vertical-align: middle;\n    }\n\n    .dataframe tbody tr th {\n        vertical-align: top;\n    }\n\n    .dataframe thead th {\n        text-align: right;\n    }\n</style>\n<table border=\"1\" class=\"dataframe\">\n  <thead>\n    <tr style=\"text-align: right;\">\n      <th></th>\n      <th>제목</th>\n      <th>날짜</th>\n      <th>카테고리</th>\n      <th>태그</th>\n      <th>요약</th>\n    </tr>\n  </thead>\n  <tbody>\n    <tr>\n      <th>0</th>\n      <td>5가지 키워드로 보는 알파브라더스</td>\n      <td>2024-03-01</td>\n      <td>INSIGHTS</td>\n      <td>엑셀러레이터, 창업지원, 성장챔피언</td>\n      <td>알파브라더스는 창업가들을 위한 실질적인 지원을 제공하는 액티브 액셀러레이터입니다. ...</td>\n    </tr>\n    <tr>\n      <th>1</th>\n      <td>실무까지 지원하는 알파브라더스의 남다른 펀드 투자</td>\n      <td>2024-03-01</td>\n      <td>INSIGHTS</td>\n      <td>알파브라더스, 투자, 실무 지원</td>\n      <td>알파브라더스는 자본금 투자와 함께 실무 지원을 통해 창업가들을 성공으로 이끄는 차별...</td>\n    </tr>\n  </tbody>\n</table>\n</div>"
     },
     "execution_count": 31,
     "metadata": {},
     "output_type": "execute_result"
    }
   ],
   "source": [
    "df2"
   ],
   "metadata": {
    "collapsed": false,
    "ExecuteTime": {
     "end_time": "2024-04-16T09:49:13.494409Z",
     "start_time": "2024-04-16T09:49:13.482739Z"
    }
   },
   "id": "496b314510568a7d",
   "execution_count": 31
  },
  {
   "cell_type": "code",
   "outputs": [],
   "source": [
    "def get_input_and_confirm(field_name):\n",
    "    while True:\n",
    "        user_input = input(f'{field_name}을(를) 입력해주세요: ')\n",
    "        print(f\"입력하신 {field_name}: {user_input}\")\n",
    "\n",
    "def add_data():\n",
    "    data = {\n",
    "        \"제목\": [get_input_and_confirm(\"제목\")],\n",
    "        \"날짜\": [get_input_and_confirm(\"날짜\")],\n",
    "        \"카테고리\": [get_input_and_confirm(\"카테고리\")],\n",
    "        \"태그\": [get_input_and_confirm(\"태그\")],\n",
    "        \"요약\": [get_input_and_confirm(\"요약\")]\n",
    "    }\n",
    "\n",
    "    # 입력된 데이터 최종 확인\n",
    "    print(\"\\n최종 입력 데이터는 다음과 같습니다:\")\n",
    "    for key, value in data.items():\n",
    "        print(f\"{key}: {value}\")\n",
    "\n",
    "    # 데이터 추가 확인\n",
    "    if input(\"이 데이터를 추가하시겠습니까? (yes/no): \").lower() == 'yes':\n",
    "        return data\n",
    "    else:\n",
    "        print(\"데이터 추가가 취소되었습니다.\")\n",
    "        return None\n",
    "\n",
    "# 메인 프로세스 실행\n",
    "new_data = add_data()\n",
    "if new_data:\n",
    "    print(\"데이터가 성공적으로 추가되었습니다.\")\n",
    "    print(new_data)"
   ],
   "metadata": {
    "collapsed": false,
    "is_executing": true
   },
   "id": "9737b86b01e115bf",
   "execution_count": null
  },
  {
   "cell_type": "code",
   "outputs": [
    {
     "data": {
      "text/plain": "{'제목': ['성장을 위한 지원을 아끼지 않는 알파브라더스의 업무 환경'],\n '날짜': ['2024-03-02'],\n '카테고리': ['INSIGHTS'],\n '태그': ['알파브라더스', '업무 환경', '성과', '자율성', '유연 근무', '재택근무', '워케이션'],\n '요약': ['알파브라더스는 자율성과 책임감을 토대로 최적의 업무 환경을 제공하여 조직원들의 성장과 성과를 높이고 있습니다. 유연한 근무제, 재택근무, 그리고 워케이션과 같은 제도를 통해 조직원들은 업무에 집중하고 휴식을 취할 수 있는 환경을 마련하며, 이는 회사와 개인의 성과 향상에 긍정적인 영향을 미치고 있습니다.']}"
     },
     "execution_count": 45,
     "metadata": {},
     "output_type": "execute_result"
    }
   ],
   "source": [
    "new_data"
   ],
   "metadata": {
    "collapsed": false,
    "ExecuteTime": {
     "end_time": "2024-04-16T10:03:54.733972Z",
     "start_time": "2024-04-16T10:03:54.728711Z"
    }
   },
   "id": "68317a50c3e52678",
   "execution_count": 45
  },
  {
   "cell_type": "code",
   "outputs": [
    {
     "ename": "ValueError",
     "evalue": "All arrays must be of the same length",
     "output_type": "error",
     "traceback": [
      "\u001B[1;31m---------------------------------------------------------------------------\u001B[0m",
      "\u001B[1;31mValueError\u001B[0m                                Traceback (most recent call last)",
      "Cell \u001B[1;32mIn[46], line 2\u001B[0m\n\u001B[0;32m      1\u001B[0m \u001B[38;5;66;03m# 데이터 추가할때 \u001B[39;00m\n\u001B[1;32m----> 2\u001B[0m add_df \u001B[38;5;241m=\u001B[39m \u001B[43mpd\u001B[49m\u001B[38;5;241;43m.\u001B[39;49m\u001B[43mDataFrame\u001B[49m\u001B[38;5;241;43m.\u001B[39;49m\u001B[43mfrom_dict\u001B[49m\u001B[43m(\u001B[49m\u001B[43mnew_data\u001B[49m\u001B[43m)\u001B[49m\n\u001B[0;32m      3\u001B[0m df \u001B[38;5;241m=\u001B[39m pd\u001B[38;5;241m.\u001B[39mconcat([df, add_df], ignore_index\u001B[38;5;241m=\u001B[39m\u001B[38;5;28;01mTrue\u001B[39;00m)\n",
      "File \u001B[1;32m~\\AppData\\Local\\Programs\\Python\\Python310\\lib\\site-packages\\pandas\\core\\frame.py:1905\u001B[0m, in \u001B[0;36mDataFrame.from_dict\u001B[1;34m(cls, data, orient, dtype, columns)\u001B[0m\n\u001B[0;32m   1899\u001B[0m     \u001B[38;5;28;01mraise\u001B[39;00m \u001B[38;5;167;01mValueError\u001B[39;00m(\n\u001B[0;32m   1900\u001B[0m         \u001B[38;5;124mf\u001B[39m\u001B[38;5;124m\"\u001B[39m\u001B[38;5;124mExpected \u001B[39m\u001B[38;5;124m'\u001B[39m\u001B[38;5;124mindex\u001B[39m\u001B[38;5;124m'\u001B[39m\u001B[38;5;124m, \u001B[39m\u001B[38;5;124m'\u001B[39m\u001B[38;5;124mcolumns\u001B[39m\u001B[38;5;124m'\u001B[39m\u001B[38;5;124m or \u001B[39m\u001B[38;5;124m'\u001B[39m\u001B[38;5;124mtight\u001B[39m\u001B[38;5;124m'\u001B[39m\u001B[38;5;124m for orient parameter. \u001B[39m\u001B[38;5;124m\"\u001B[39m\n\u001B[0;32m   1901\u001B[0m         \u001B[38;5;124mf\u001B[39m\u001B[38;5;124m\"\u001B[39m\u001B[38;5;124mGot \u001B[39m\u001B[38;5;124m'\u001B[39m\u001B[38;5;132;01m{\u001B[39;00morient\u001B[38;5;132;01m}\u001B[39;00m\u001B[38;5;124m'\u001B[39m\u001B[38;5;124m instead\u001B[39m\u001B[38;5;124m\"\u001B[39m\n\u001B[0;32m   1902\u001B[0m     )\n\u001B[0;32m   1904\u001B[0m \u001B[38;5;28;01mif\u001B[39;00m orient \u001B[38;5;241m!=\u001B[39m \u001B[38;5;124m\"\u001B[39m\u001B[38;5;124mtight\u001B[39m\u001B[38;5;124m\"\u001B[39m:\n\u001B[1;32m-> 1905\u001B[0m     \u001B[38;5;28;01mreturn\u001B[39;00m \u001B[38;5;28;43mcls\u001B[39;49m\u001B[43m(\u001B[49m\u001B[43mdata\u001B[49m\u001B[43m,\u001B[49m\u001B[43m \u001B[49m\u001B[43mindex\u001B[49m\u001B[38;5;241;43m=\u001B[39;49m\u001B[43mindex\u001B[49m\u001B[43m,\u001B[49m\u001B[43m \u001B[49m\u001B[43mcolumns\u001B[49m\u001B[38;5;241;43m=\u001B[39;49m\u001B[43mcolumns\u001B[49m\u001B[43m,\u001B[49m\u001B[43m \u001B[49m\u001B[43mdtype\u001B[49m\u001B[38;5;241;43m=\u001B[39;49m\u001B[43mdtype\u001B[49m\u001B[43m)\u001B[49m\n\u001B[0;32m   1906\u001B[0m \u001B[38;5;28;01melse\u001B[39;00m:\n\u001B[0;32m   1907\u001B[0m     realdata \u001B[38;5;241m=\u001B[39m data[\u001B[38;5;124m\"\u001B[39m\u001B[38;5;124mdata\u001B[39m\u001B[38;5;124m\"\u001B[39m]\n",
      "File \u001B[1;32m~\\AppData\\Local\\Programs\\Python\\Python310\\lib\\site-packages\\pandas\\core\\frame.py:767\u001B[0m, in \u001B[0;36mDataFrame.__init__\u001B[1;34m(self, data, index, columns, dtype, copy)\u001B[0m\n\u001B[0;32m    761\u001B[0m     mgr \u001B[38;5;241m=\u001B[39m \u001B[38;5;28mself\u001B[39m\u001B[38;5;241m.\u001B[39m_init_mgr(\n\u001B[0;32m    762\u001B[0m         data, axes\u001B[38;5;241m=\u001B[39m{\u001B[38;5;124m\"\u001B[39m\u001B[38;5;124mindex\u001B[39m\u001B[38;5;124m\"\u001B[39m: index, \u001B[38;5;124m\"\u001B[39m\u001B[38;5;124mcolumns\u001B[39m\u001B[38;5;124m\"\u001B[39m: columns}, dtype\u001B[38;5;241m=\u001B[39mdtype, copy\u001B[38;5;241m=\u001B[39mcopy\n\u001B[0;32m    763\u001B[0m     )\n\u001B[0;32m    765\u001B[0m \u001B[38;5;28;01melif\u001B[39;00m \u001B[38;5;28misinstance\u001B[39m(data, \u001B[38;5;28mdict\u001B[39m):\n\u001B[0;32m    766\u001B[0m     \u001B[38;5;66;03m# GH#38939 de facto copy defaults to False only in non-dict cases\u001B[39;00m\n\u001B[1;32m--> 767\u001B[0m     mgr \u001B[38;5;241m=\u001B[39m \u001B[43mdict_to_mgr\u001B[49m\u001B[43m(\u001B[49m\u001B[43mdata\u001B[49m\u001B[43m,\u001B[49m\u001B[43m \u001B[49m\u001B[43mindex\u001B[49m\u001B[43m,\u001B[49m\u001B[43m \u001B[49m\u001B[43mcolumns\u001B[49m\u001B[43m,\u001B[49m\u001B[43m \u001B[49m\u001B[43mdtype\u001B[49m\u001B[38;5;241;43m=\u001B[39;49m\u001B[43mdtype\u001B[49m\u001B[43m,\u001B[49m\u001B[43m \u001B[49m\u001B[43mcopy\u001B[49m\u001B[38;5;241;43m=\u001B[39;49m\u001B[43mcopy\u001B[49m\u001B[43m,\u001B[49m\u001B[43m \u001B[49m\u001B[43mtyp\u001B[49m\u001B[38;5;241;43m=\u001B[39;49m\u001B[43mmanager\u001B[49m\u001B[43m)\u001B[49m\n\u001B[0;32m    768\u001B[0m \u001B[38;5;28;01melif\u001B[39;00m \u001B[38;5;28misinstance\u001B[39m(data, ma\u001B[38;5;241m.\u001B[39mMaskedArray):\n\u001B[0;32m    769\u001B[0m     \u001B[38;5;28;01mfrom\u001B[39;00m \u001B[38;5;21;01mnumpy\u001B[39;00m\u001B[38;5;21;01m.\u001B[39;00m\u001B[38;5;21;01mma\u001B[39;00m \u001B[38;5;28;01mimport\u001B[39;00m mrecords\n",
      "File \u001B[1;32m~\\AppData\\Local\\Programs\\Python\\Python310\\lib\\site-packages\\pandas\\core\\internals\\construction.py:503\u001B[0m, in \u001B[0;36mdict_to_mgr\u001B[1;34m(data, index, columns, dtype, typ, copy)\u001B[0m\n\u001B[0;32m    499\u001B[0m     \u001B[38;5;28;01melse\u001B[39;00m:\n\u001B[0;32m    500\u001B[0m         \u001B[38;5;66;03m# dtype check to exclude e.g. range objects, scalars\u001B[39;00m\n\u001B[0;32m    501\u001B[0m         arrays \u001B[38;5;241m=\u001B[39m [x\u001B[38;5;241m.\u001B[39mcopy() \u001B[38;5;28;01mif\u001B[39;00m \u001B[38;5;28mhasattr\u001B[39m(x, \u001B[38;5;124m\"\u001B[39m\u001B[38;5;124mdtype\u001B[39m\u001B[38;5;124m\"\u001B[39m) \u001B[38;5;28;01melse\u001B[39;00m x \u001B[38;5;28;01mfor\u001B[39;00m x \u001B[38;5;129;01min\u001B[39;00m arrays]\n\u001B[1;32m--> 503\u001B[0m \u001B[38;5;28;01mreturn\u001B[39;00m \u001B[43marrays_to_mgr\u001B[49m\u001B[43m(\u001B[49m\u001B[43marrays\u001B[49m\u001B[43m,\u001B[49m\u001B[43m \u001B[49m\u001B[43mcolumns\u001B[49m\u001B[43m,\u001B[49m\u001B[43m \u001B[49m\u001B[43mindex\u001B[49m\u001B[43m,\u001B[49m\u001B[43m \u001B[49m\u001B[43mdtype\u001B[49m\u001B[38;5;241;43m=\u001B[39;49m\u001B[43mdtype\u001B[49m\u001B[43m,\u001B[49m\u001B[43m \u001B[49m\u001B[43mtyp\u001B[49m\u001B[38;5;241;43m=\u001B[39;49m\u001B[43mtyp\u001B[49m\u001B[43m,\u001B[49m\u001B[43m \u001B[49m\u001B[43mconsolidate\u001B[49m\u001B[38;5;241;43m=\u001B[39;49m\u001B[43mcopy\u001B[49m\u001B[43m)\u001B[49m\n",
      "File \u001B[1;32m~\\AppData\\Local\\Programs\\Python\\Python310\\lib\\site-packages\\pandas\\core\\internals\\construction.py:114\u001B[0m, in \u001B[0;36marrays_to_mgr\u001B[1;34m(arrays, columns, index, dtype, verify_integrity, typ, consolidate)\u001B[0m\n\u001B[0;32m    111\u001B[0m \u001B[38;5;28;01mif\u001B[39;00m verify_integrity:\n\u001B[0;32m    112\u001B[0m     \u001B[38;5;66;03m# figure out the index, if necessary\u001B[39;00m\n\u001B[0;32m    113\u001B[0m     \u001B[38;5;28;01mif\u001B[39;00m index \u001B[38;5;129;01mis\u001B[39;00m \u001B[38;5;28;01mNone\u001B[39;00m:\n\u001B[1;32m--> 114\u001B[0m         index \u001B[38;5;241m=\u001B[39m \u001B[43m_extract_index\u001B[49m\u001B[43m(\u001B[49m\u001B[43marrays\u001B[49m\u001B[43m)\u001B[49m\n\u001B[0;32m    115\u001B[0m     \u001B[38;5;28;01melse\u001B[39;00m:\n\u001B[0;32m    116\u001B[0m         index \u001B[38;5;241m=\u001B[39m ensure_index(index)\n",
      "File \u001B[1;32m~\\AppData\\Local\\Programs\\Python\\Python310\\lib\\site-packages\\pandas\\core\\internals\\construction.py:677\u001B[0m, in \u001B[0;36m_extract_index\u001B[1;34m(data)\u001B[0m\n\u001B[0;32m    675\u001B[0m lengths \u001B[38;5;241m=\u001B[39m \u001B[38;5;28mlist\u001B[39m(\u001B[38;5;28mset\u001B[39m(raw_lengths))\n\u001B[0;32m    676\u001B[0m \u001B[38;5;28;01mif\u001B[39;00m \u001B[38;5;28mlen\u001B[39m(lengths) \u001B[38;5;241m>\u001B[39m \u001B[38;5;241m1\u001B[39m:\n\u001B[1;32m--> 677\u001B[0m     \u001B[38;5;28;01mraise\u001B[39;00m \u001B[38;5;167;01mValueError\u001B[39;00m(\u001B[38;5;124m\"\u001B[39m\u001B[38;5;124mAll arrays must be of the same length\u001B[39m\u001B[38;5;124m\"\u001B[39m)\n\u001B[0;32m    679\u001B[0m \u001B[38;5;28;01mif\u001B[39;00m have_dicts:\n\u001B[0;32m    680\u001B[0m     \u001B[38;5;28;01mraise\u001B[39;00m \u001B[38;5;167;01mValueError\u001B[39;00m(\n\u001B[0;32m    681\u001B[0m         \u001B[38;5;124m\"\u001B[39m\u001B[38;5;124mMixing dicts with non-Series may lead to ambiguous ordering.\u001B[39m\u001B[38;5;124m\"\u001B[39m\n\u001B[0;32m    682\u001B[0m     )\n",
      "\u001B[1;31mValueError\u001B[0m: All arrays must be of the same length"
     ]
    }
   ],
   "source": [
    "# 데이터 추가할때 \n",
    "add_df = pd.DataFrame.from_dict(new_data)\n",
    "df = pd.concat([df, add_df], ignore_index=True)"
   ],
   "metadata": {
    "collapsed": false,
    "ExecuteTime": {
     "end_time": "2024-04-16T10:03:56.119163Z",
     "start_time": "2024-04-16T10:03:56.053018Z"
    }
   },
   "id": "6b20baf98c971515",
   "execution_count": 46
  },
  {
   "cell_type": "code",
   "outputs": [
    {
     "data": {
      "text/plain": "                            제목           날짜       카테고리                  태그  \\\n0  실무까지 지원하는 알파브라더스의 남다른 펀드 투자  2024-03-01   INSIGHTS   알파브라더스, 투자, 실무 지원    \n\n                                                  요약  \n0  알파브라더스는 자본금 투자와 함께 실무 지원을 통해 창업가들을 성공으로 이끄는 차별...  ",
      "text/html": "<div>\n<style scoped>\n    .dataframe tbody tr th:only-of-type {\n        vertical-align: middle;\n    }\n\n    .dataframe tbody tr th {\n        vertical-align: top;\n    }\n\n    .dataframe thead th {\n        text-align: right;\n    }\n</style>\n<table border=\"1\" class=\"dataframe\">\n  <thead>\n    <tr style=\"text-align: right;\">\n      <th></th>\n      <th>제목</th>\n      <th>날짜</th>\n      <th>카테고리</th>\n      <th>태그</th>\n      <th>요약</th>\n    </tr>\n  </thead>\n  <tbody>\n    <tr>\n      <th>0</th>\n      <td>실무까지 지원하는 알파브라더스의 남다른 펀드 투자</td>\n      <td>2024-03-01</td>\n      <td>INSIGHTS</td>\n      <td>알파브라더스, 투자, 실무 지원</td>\n      <td>알파브라더스는 자본금 투자와 함께 실무 지원을 통해 창업가들을 성공으로 이끄는 차별...</td>\n    </tr>\n  </tbody>\n</table>\n</div>"
     },
     "execution_count": 42,
     "metadata": {},
     "output_type": "execute_result"
    }
   ],
   "source": [
    "add_df"
   ],
   "metadata": {
    "collapsed": false,
    "ExecuteTime": {
     "end_time": "2024-04-16T10:02:32.023986Z",
     "start_time": "2024-04-16T10:02:32.000910Z"
    }
   },
   "id": "e3c39163677ee99a",
   "execution_count": 42
  },
  {
   "cell_type": "code",
   "outputs": [],
   "source": [],
   "metadata": {
    "collapsed": false
   },
   "id": "2d4d794d39e900eb"
  }
 ],
 "metadata": {
  "kernelspec": {
   "display_name": "Python 3",
   "language": "python",
   "name": "python3"
  },
  "language_info": {
   "codemirror_mode": {
    "name": "ipython",
    "version": 2
   },
   "file_extension": ".py",
   "mimetype": "text/x-python",
   "name": "python",
   "nbconvert_exporter": "python",
   "pygments_lexer": "ipython2",
   "version": "2.7.6"
  }
 },
 "nbformat": 4,
 "nbformat_minor": 5
}
